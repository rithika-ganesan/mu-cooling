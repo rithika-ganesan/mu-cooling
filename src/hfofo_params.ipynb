{
 "cells": [
  {
   "cell_type": "code",
   "execution_count": 1,
   "metadata": {},
   "outputs": [],
   "source": [
    "import numpy as np"
   ]
  },
  {
   "cell_type": "markdown",
   "metadata": {},
   "source": [
    "### Define period bounds"
   ]
  },
  {
   "cell_type": "code",
   "execution_count": 218,
   "metadata": {},
   "outputs": [],
   "source": [
    "period = 4200\n",
    "np = 31"
   ]
  },
  {
   "cell_type": "code",
   "execution_count": 223,
   "metadata": {},
   "outputs": [
    {
     "name": "stdout",
     "output_type": "stream",
     "text": [
      "0 0 4200\n",
      "1 4200 8400\n",
      "2 8400 12600\n",
      "3 12600 16800\n",
      "4 16800 21000\n",
      "5 21000 25200\n",
      "6 25200 29400\n",
      "7 29400 33600\n",
      "8 33600 37800\n",
      "9 37800 42000\n",
      "10 42000 46200\n",
      "11 46200 50400\n",
      "12 50400 54600\n",
      "13 54600 58800\n",
      "14 58800 63000\n",
      "15 63000 67200\n",
      "16 67200 71400\n",
      "17 71400 75600\n",
      "18 75600 79800\n",
      "19 79800 84000\n",
      "20 84000 88200\n",
      "21 88200 92400\n",
      "22 92400 96600\n",
      "23 96600 100800\n",
      "24 100800 105000\n",
      "25 105000 109200\n",
      "26 109200 113400\n",
      "27 113400 117600\n",
      "28 117600 121800\n",
      "29 121800 126000\n",
      "30 126000 130200\n"
     ]
    }
   ],
   "source": [
    "for i in range(np):\n",
    "    print(i, period*i, period*(i+1));"
   ]
  },
  {
   "cell_type": "code",
   "execution_count": null,
   "metadata": {},
   "outputs": [],
   "source": [
    "for i in range(np):\n",
    "    print(i, period*i, period*(i+1));"
   ]
  },
  {
   "cell_type": "markdown",
   "metadata": {},
   "source": [
    "### Solenoid positions"
   ]
  },
  {
   "cell_type": "code",
   "execution_count": null,
   "metadata": {},
   "outputs": [],
   "source": [
    "sol_z = np.array([500, 1200, 1900, 2600, 3300, 4000])"
   ]
  },
  {
   "cell_type": "markdown",
   "metadata": {},
   "source": [
    "### RF cavity positions"
   ]
  },
  {
   "cell_type": "code",
   "execution_count": 70,
   "metadata": {},
   "outputs": [],
   "source": [
    "vals = []\n",
    "for i in range(0, 32):\n",
    "    for j in range(6):\n",
    "        for c in [-125, +125]:\n",
    "            vals.append(i*4200 + 500 + j*700 + c)\n",
    "\n",
    "vals = np.array(vals)"
   ]
  },
  {
   "cell_type": "code",
   "execution_count": 182,
   "metadata": {},
   "outputs": [],
   "source": [
    "#### Get z vals for a set of RFs given the period number:\n",
    "\n",
    "def rfz(i):\n",
    "    vals = []\n",
    "    for j in range(6):\n",
    "            for c in [-125, +125]:\n",
    "                vals.append(i*4200 + 500 + j*700 + c)\n",
    "    return np.array(vals)\n",
    "\n",
    "initvals = rfz(0)"
   ]
  },
  {
   "cell_type": "code",
   "execution_count": 215,
   "metadata": {},
   "outputs": [
    {
     "data": {
      "text/plain": [
       "array([ 375,  625, 1075, 1325, 1775, 2025, 2475, 2725, 3175, 3425, 3875,\n",
       "       4125])"
      ]
     },
     "execution_count": 215,
     "metadata": {},
     "output_type": "execute_result"
    }
   ],
   "source": [
    "initvals "
   ]
  },
  {
   "cell_type": "code",
   "execution_count": 214,
   "metadata": {},
   "outputs": [
    {
     "name": "stdout",
     "output_type": "stream",
     "text": [
      "define HFOFORFCPeriodB \\\n",
      "    \"place $1 z=2475+$period*$2 timeOffset=$3\" \\\n",
      "    \"place $1 z=2725+$period*$2 timeOffset=$4\" \\\n",
      "    \"place $1 z=3175+$period*$2 timeOffset=$5\" \\\n",
      "    \"place $1 z=3425+$period*$2 timeOffset=$6\" \\\n",
      "    \"place $1 z=3875+$period*$2 timeOffset=$7\" \\\n",
      "    \"place $1 z=4125+$period*$2 timeOffset=$8\" \\\n"
     ]
    }
   ],
   "source": [
    "print(\"define HFOFORFCPeriodB \\\\\")\n",
    "for i, z in enumerate(initvals[6:]):\n",
    "    print('    \"place $1 ' + \"z=\" + f'{z}' + '+$period*$2 timeOffset' + f\"=${i+3}\" + '\" \\\\')"
   ]
  },
  {
   "cell_type": "code",
   "execution_count": 212,
   "metadata": {},
   "outputs": [
    {
     "data": {
      "text/plain": [
       "array([0.075, 0.125, 0.215, 0.265, 0.355, 0.405, 0.495, 0.545, 0.635,\n",
       "       0.685, 0.775, 0.825])"
      ]
     },
     "execution_count": 212,
     "metadata": {},
     "output_type": "execute_result"
    }
   ],
   "source": [
    "initvals / 5000"
   ]
  },
  {
   "cell_type": "code",
   "execution_count": 217,
   "metadata": {},
   "outputs": [
    {
     "name": "stdout",
     "output_type": "stream",
     "text": [
      "375\n",
      "4575\n",
      "8775\n",
      "12975\n",
      "17175\n",
      "21375\n",
      "25575\n",
      "29775\n",
      "33975\n",
      "38175\n",
      "42375\n",
      "46575\n",
      "50775\n",
      "54975\n",
      "59175\n",
      "63375\n",
      "67575\n",
      "71775\n",
      "75975\n",
      "80175\n",
      "84375\n",
      "88575\n",
      "92775\n",
      "96975\n",
      "101175\n",
      "105375\n",
      "109575\n",
      "113775\n",
      "117975\n",
      "122175\n",
      "126375\n"
     ]
    }
   ],
   "source": [
    "for i in range(31):\n",
    "    print(initvals[0] + 4200*i)"
   ]
  },
  {
   "cell_type": "code",
   "execution_count": 80,
   "metadata": {},
   "outputs": [],
   "source": [
    "v1, v2 = vals[0:12], vals[12:24]"
   ]
  },
  {
   "cell_type": "code",
   "execution_count": 174,
   "metadata": {},
   "outputs": [
    {
     "name": "stdout",
     "output_type": "stream",
     "text": [
      "[ 0.  1.  2.  3.  4.  5.  6.  7.  8.  9. 10. 11.]\n",
      "[ 0.  1.  2.  3.  4.  5.  6.  7.  8.  9. 10. 11.]\n"
     ]
    }
   ],
   "source": [
    "def fn(v, scalingfactor=0.00321):\n",
    "    offset = ((v%700)-500)\n",
    "    off = (offset + 125) / 250\n",
    "    return ((((v % 4200) - offset)-500))/350 + off\n",
    "\n",
    "print(fn(v1))\n",
    "print(fn(v2))"
   ]
  },
  {
   "cell_type": "code",
   "execution_count": 131,
   "metadata": {},
   "outputs": [
    {
     "name": "stdout",
     "output_type": "stream",
     "text": [
      "[ 0  1  3  4  5  6  7  8  9 10 12 13]\n",
      "[ 0  1  3  4  5  6  7  8  9 10 12 13]\n"
     ]
    }
   ],
   "source": [
    "def fn(v, scalingfactor=0.00321):\n",
    "    return np.ceil(((v % 4200) + 125 - 500) * scalingfactor).astype(int)\n",
    "\n",
    "print(fn(v1))\n",
    "print(fn(v2))"
   ]
  },
  {
   "cell_type": "code",
   "execution_count": 122,
   "metadata": {},
   "outputs": [
    {
     "name": "stdout",
     "output_type": "stream",
     "text": [
      "[   0  250  700  950 1400 1650 2100 2350 2800 3050 3500 3750]\n",
      "[   0  250  700  950 1400 1650 2100 2350 2800 3050 3500 3750]\n"
     ]
    }
   ],
   "source": []
  },
  {
   "cell_type": "markdown",
   "metadata": {},
   "source": [
    "### Absorber tube positions"
   ]
  },
  {
   "cell_type": "code",
   "execution_count": 22,
   "metadata": {},
   "outputs": [],
   "source": [
    "ini = [150, 850, 1550, 2250, 2950, 3650]\n",
    "period = 4200\n",
    "### Absorber values \n",
    "valsraw = []\n",
    "for i in range(1, 31):\n",
    "    for iniz in ini:\n",
    "        valsraw.append(iniz + i*period)\n",
    "\n",
    "valsraw = np.array(valsraw)"
   ]
  },
  {
   "cell_type": "code",
   "execution_count": 36,
   "metadata": {},
   "outputs": [],
   "source": [
    "inizz = 150\n",
    "nsol = 6\n",
    "period = 4200\n",
    "mult = int(period / nsol)\n",
    "### Absorber values \n",
    "vals = []\n",
    "for i in range(1, 31):\n",
    "    for j in range(6):\n",
    "        inn = inizz + j*mult + i*period\n",
    "        vals.append(inn)\n",
    "\n",
    "vals = np.array(vals)"
   ]
  },
  {
   "cell_type": "code",
   "execution_count": 40,
   "metadata": {},
   "outputs": [],
   "source": [
    "init_abs_z = np.array([850, 1550, 2250, 2950, 3650])\n",
    "all_abs_z = np.concatenate([init_abs_z, vals])"
   ]
  },
  {
   "cell_type": "markdown",
   "metadata": {},
   "source": [
    "### Terminus positions"
   ]
  },
  {
   "cell_type": "code",
   "execution_count": 43,
   "metadata": {},
   "outputs": [],
   "source": [
    "terminus_z = [-1000, 4200*31+1450+102]"
   ]
  },
  {
   "cell_type": "code",
   "execution_count": 44,
   "metadata": {},
   "outputs": [
    {
     "data": {
      "text/plain": [
       "[-1000, 131752]"
      ]
     },
     "execution_count": 44,
     "metadata": {},
     "output_type": "execute_result"
    }
   ],
   "source": [
    "terminus_z"
   ]
  },
  {
   "cell_type": "code",
   "execution_count": null,
   "metadata": {},
   "outputs": [],
   "source": []
  }
 ],
 "metadata": {
  "kernelspec": {
   "display_name": "Python 3",
   "language": "python",
   "name": "python3"
  },
  "language_info": {
   "codemirror_mode": {
    "name": "ipython",
    "version": 3
   },
   "file_extension": ".py",
   "mimetype": "text/x-python",
   "name": "python",
   "nbconvert_exporter": "python",
   "pygments_lexer": "ipython3",
   "version": "3.12.5"
  }
 },
 "nbformat": 4,
 "nbformat_minor": 2
}
